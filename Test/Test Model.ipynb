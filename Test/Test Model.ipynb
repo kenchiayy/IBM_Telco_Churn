{
 "cells": [
  {
   "cell_type": "markdown",
   "metadata": {},
   "source": [
    "# Test IBM Telco Churn model build after training\n",
    "\n",
    "Here are steps needed and key feature engineering proceduce similarly done during training.\n",
    "\n",
    "- Import Data from file\n",
    "- Split the data for test\n",
    "- Missing Data imputation\n",
    "- Ordinal label encoding\n",
    "- Test the data"
   ]
  },
  {
   "cell_type": "code",
   "execution_count": 1,
   "metadata": {},
   "outputs": [
    {
     "name": "stderr",
     "output_type": "stream",
     "text": [
      "d:\\software\\programming\\anaconda3\\lib\\site-packages\\dask\\dataframe\\utils.py:15: FutureWarning: pandas.util.testing is deprecated. Use the functions in the public API at pandas.testing instead.\n",
      "  import pandas.util.testing as tm\n",
      "In d:\\software\\programming\\anaconda3\\lib\\site-packages\\matplotlib\\mpl-data\\stylelib\\_classic_test.mplstyle: \n",
      "The text.latex.preview rcparam was deprecated in Matplotlib 3.3 and will be removed two minor releases later.\n",
      "In d:\\software\\programming\\anaconda3\\lib\\site-packages\\matplotlib\\mpl-data\\stylelib\\_classic_test.mplstyle: \n",
      "The mathtext.fallback_to_cm rcparam was deprecated in Matplotlib 3.3 and will be removed two minor releases later.\n",
      "In d:\\software\\programming\\anaconda3\\lib\\site-packages\\matplotlib\\mpl-data\\stylelib\\_classic_test.mplstyle: Support for setting the 'mathtext.fallback_to_cm' rcParam is deprecated since 3.3 and will be removed two minor releases later; use 'mathtext.fallback : 'cm' instead.\n",
      "In d:\\software\\programming\\anaconda3\\lib\\site-packages\\matplotlib\\mpl-data\\stylelib\\_classic_test.mplstyle: \n",
      "The validate_bool_maybe_none function was deprecated in Matplotlib 3.3 and will be removed two minor releases later.\n",
      "In d:\\software\\programming\\anaconda3\\lib\\site-packages\\matplotlib\\mpl-data\\stylelib\\_classic_test.mplstyle: \n",
      "The savefig.jpeg_quality rcparam was deprecated in Matplotlib 3.3 and will be removed two minor releases later.\n",
      "In d:\\software\\programming\\anaconda3\\lib\\site-packages\\matplotlib\\mpl-data\\stylelib\\_classic_test.mplstyle: \n",
      "The keymap.all_axes rcparam was deprecated in Matplotlib 3.3 and will be removed two minor releases later.\n",
      "In d:\\software\\programming\\anaconda3\\lib\\site-packages\\matplotlib\\mpl-data\\stylelib\\_classic_test.mplstyle: \n",
      "The animation.avconv_path rcparam was deprecated in Matplotlib 3.3 and will be removed two minor releases later.\n",
      "In d:\\software\\programming\\anaconda3\\lib\\site-packages\\matplotlib\\mpl-data\\stylelib\\_classic_test.mplstyle: \n",
      "The animation.avconv_args rcparam was deprecated in Matplotlib 3.3 and will be removed two minor releases later.\n"
     ]
    }
   ],
   "source": [
    "import unittest\n",
    "import pandas as pd \n",
    "import numpy as np\n",
    "import xgboost as xgb\n",
    "from sklearn.model_selection import train_test_split # split data into training and testing sets\n",
    "from sklearn.metrics import balanced_accuracy_score, roc_auc_score, make_scorer # for scoring during cross validation\n",
    "from sklearn.model_selection import GridSearchCV # cross validation\n",
    "from sklearn.metrics import confusion_matrix # create a confusion matrix\n",
    "from sklearn.metrics import classification_report # create classification report\n",
    "from sklearn.metrics import plot_confusion_matrix # draws a confusion matirx\n",
    "from sklearn.metrics import precision_recall_fscore_support as score\n",
    "from sklearn.preprocessing import LabelEncoder # label encode for categorical features\n",
    "from feature_engine.encoding import OrdinalEncoder # For integer encoding using\n",
    "import pickle\n",
    "import random\n",
    "file_name = \"xgb_IBM_Churn.pkl\""
   ]
  },
  {
   "cell_type": "markdown",
   "metadata": {},
   "source": [
    "## Importing the data"
   ]
  },
  {
   "cell_type": "code",
   "execution_count": 2,
   "metadata": {},
   "outputs": [],
   "source": [
    "df = pd.read_csv('Telco_customer_churn.csv')"
   ]
  },
  {
   "cell_type": "markdown",
   "metadata": {},
   "source": [
    "## Drop Unwanted Columns"
   ]
  },
  {
   "cell_type": "code",
   "execution_count": 3,
   "metadata": {},
   "outputs": [],
   "source": [
    "df.drop(['Churn Label', 'Churn Score', 'CLTV', 'Churn Reason'],\n",
    "       axis=1, inplace=True) ## set axis=0 to remove rows, axis=1 to remove columns"
   ]
  },
  {
   "cell_type": "markdown",
   "metadata": {},
   "source": [
    "## Drop Constants and Duplicated Columns"
   ]
  },
  {
   "cell_type": "code",
   "execution_count": 4,
   "metadata": {},
   "outputs": [],
   "source": [
    "df.drop(['CustomerID', 'Count', 'Country', 'State', 'Lat Long'],\n",
    "       axis=1, inplace=True) ## set axis=0 to remove rows, axis=1 to remove c"
   ]
  },
  {
   "cell_type": "code",
   "execution_count": 5,
   "metadata": {},
   "outputs": [],
   "source": [
    "df.columns = df.columns.str.replace(' ', '_')"
   ]
  },
  {
   "cell_type": "markdown",
   "metadata": {},
   "source": [
    "## Missing Data imputation"
   ]
  },
  {
   "cell_type": "code",
   "execution_count": 6,
   "metadata": {},
   "outputs": [],
   "source": [
    "df.loc[(df['Total_Charges'] == ' '), 'Total_Charges'] = 0"
   ]
  },
  {
   "cell_type": "code",
   "execution_count": 7,
   "metadata": {},
   "outputs": [],
   "source": [
    "df['Total_Charges'] = pd.to_numeric(df['Total_Charges'])"
   ]
  },
  {
   "cell_type": "markdown",
   "metadata": {},
   "source": [
    "## Format Data: Split the Data into Dependent and Independent Variables"
   ]
  },
  {
   "cell_type": "code",
   "execution_count": 8,
   "metadata": {},
   "outputs": [],
   "source": [
    "X = df.drop('Churn_Value', axis=1).copy()\n",
    "y = df['Churn_Value'].copy()"
   ]
  },
  {
   "cell_type": "markdown",
   "metadata": {},
   "source": [
    "## Format Data: Ordinal Label Encoding"
   ]
  },
  {
   "cell_type": "code",
   "execution_count": 9,
   "metadata": {},
   "outputs": [],
   "source": [
    "ordinal_encoder = OrdinalEncoder(\n",
    "    encoding_method='ordered',\n",
    "    variables=['City',\n",
    "                'Gender',\n",
    "                'Senior_Citizen',\n",
    "                'Partner',\n",
    "                'Dependents',\n",
    "                'Phone_Service',\n",
    "                'Multiple_Lines',\n",
    "                'Internet_Service',\n",
    "                'Online_Security',\n",
    "                'Online_Backup',\n",
    "                'Device_Protection',\n",
    "                'Tech_Support',\n",
    "                'Streaming_TV',\n",
    "                'Streaming_Movies',\n",
    "                'Contract',\n",
    "                'Paperless_Billing', \n",
    "                'Payment_Method'])\n",
    "X_encoded = ordinal_encoder.fit_transform(X, y)"
   ]
  },
  {
   "cell_type": "markdown",
   "metadata": {},
   "source": [
    "## Format Data: Split test data"
   ]
  },
  {
   "cell_type": "code",
   "execution_count": 10,
   "metadata": {},
   "outputs": [],
   "source": [
    "X_train, X_test, y_train, y_test = train_test_split(X_encoded, y,\n",
    "                                                   random_state=101, stratify=y)"
   ]
  },
  {
   "cell_type": "markdown",
   "metadata": {},
   "source": [
    "## Load the trained model"
   ]
  },
  {
   "cell_type": "code",
   "execution_count": 11,
   "metadata": {},
   "outputs": [],
   "source": [
    "# Load \n",
    "xgb_model_loaded = pickle.load(open(file_name, \"rb\"))"
   ]
  },
  {
   "cell_type": "code",
   "execution_count": 12,
   "metadata": {},
   "outputs": [
    {
     "name": "stdout",
     "output_type": "stream",
     "text": [
      "1125\n"
     ]
    }
   ],
   "source": [
    "data_index = random.randint(0, X_test.shape[0])\n",
    "print(data_index)"
   ]
  },
  {
   "cell_type": "code",
   "execution_count": 13,
   "metadata": {},
   "outputs": [],
   "source": [
    "predicted = xgb_model_loaded.predict(pd.DataFrame(X_test.iloc[data_index]).T)[0]\n",
    "actual = y_test.iloc[data_index]"
   ]
  },
  {
   "cell_type": "code",
   "execution_count": 14,
   "metadata": {
    "scrolled": true
   },
   "outputs": [
    {
     "name": "stdout",
     "output_type": "stream",
     "text": [
      "Predicted: 0\n",
      "Actual: 0\n"
     ]
    }
   ],
   "source": [
    "print(f'Predicted: {predicted}')\n",
    "print(f'Actual: {actual}')"
   ]
  },
  {
   "cell_type": "code",
   "execution_count": 15,
   "metadata": {},
   "outputs": [],
   "source": [
    "precision, recall, fscore, support = score(y_test,\n",
    "                                           xgb_model_loaded.predict(X_test),\n",
    "                                           average='macro')"
   ]
  },
  {
   "cell_type": "code",
   "execution_count": 16,
   "metadata": {},
   "outputs": [
    {
     "name": "stdout",
     "output_type": "stream",
     "text": [
      "Recall: 0.8299754425796544\n"
     ]
    }
   ],
   "source": [
    "print(f'Recall: {recall}')"
   ]
  },
  {
   "cell_type": "code",
   "execution_count": 58,
   "metadata": {},
   "outputs": [],
   "source": [
    "class TestXGB_Model(unittest.TestCase):\n",
    "    \n",
    "    def TestRandomSampleOfData(self):\n",
    "        iTest = 10\n",
    "        verificationErrors = []\n",
    "        for i in range(iTest):\n",
    "            print(f'Loop: {i+1}')\n",
    "            # Random pick an index\n",
    "            data_index = random.randint(0, X_test.shape[0])\n",
    "            print(f'Index: {data_index}')\n",
    "            predicted = xgb_model_loaded.predict(pd.DataFrame(X_test.iloc[data_index]).T)[0]\n",
    "            actual = y_test.iloc[data_index]\n",
    "            print(f'Actual: {actual}')\n",
    "            print(f'Predicted: {predicted}')\n",
    "            try:\n",
    "                self.assertEqual(actual, predicted)\n",
    "            except AssertionError:\n",
    "                print('Pridiction not same!')\n",
    "            finally:\n",
    "                print('\\n')\n",
    "    \n",
    "    def TestAccuracy(self):\n",
    "        PassThreshold = 0.8\n",
    "        precision, recall, fscore, support = score(y_test,\n",
    "                                           xgb_model_loaded.predict(X_test),\n",
    "                                           average='macro')\n",
    "        print(f'Current model recall: {recall}')\n",
    "        self.assertGreaterEqual(recall, PassThreshold, 'Recall test')"
   ]
  },
  {
   "cell_type": "code",
   "execution_count": 59,
   "metadata": {},
   "outputs": [],
   "source": [
    "obj = TestXGB_Model()"
   ]
  },
  {
   "cell_type": "code",
   "execution_count": 60,
   "metadata": {},
   "outputs": [
    {
     "name": "stdout",
     "output_type": "stream",
     "text": [
      "Loop: 1\n",
      "Index: 91\n",
      "Actual: 0\n",
      "Predicted: 0\n",
      "\n",
      "\n",
      "Loop: 2\n",
      "Index: 608\n",
      "Actual: 1\n",
      "Predicted: 1\n",
      "\n",
      "\n",
      "Loop: 3\n",
      "Index: 1387\n",
      "Actual: 0\n",
      "Predicted: 0\n",
      "\n",
      "\n",
      "Loop: 4\n",
      "Index: 538\n",
      "Actual: 0\n",
      "Predicted: 0\n",
      "\n",
      "\n",
      "Loop: 5\n",
      "Index: 889\n",
      "Actual: 1\n",
      "Predicted: 1\n",
      "\n",
      "\n",
      "Loop: 6\n",
      "Index: 436\n",
      "Actual: 0\n",
      "Predicted: 0\n",
      "\n",
      "\n",
      "Loop: 7\n",
      "Index: 67\n",
      "Actual: 0\n",
      "Predicted: 1\n",
      "Pridiction not same!\n",
      "\n",
      "\n",
      "Loop: 8\n",
      "Index: 1224\n",
      "Actual: 0\n",
      "Predicted: 0\n",
      "\n",
      "\n",
      "Loop: 9\n",
      "Index: 647\n",
      "Actual: 0\n",
      "Predicted: 0\n",
      "\n",
      "\n",
      "Loop: 10\n",
      "Index: 83\n",
      "Actual: 0\n",
      "Predicted: 0\n",
      "\n",
      "\n"
     ]
    }
   ],
   "source": [
    "obj.TestRandomSampleOfData()"
   ]
  },
  {
   "cell_type": "code",
   "execution_count": 61,
   "metadata": {},
   "outputs": [
    {
     "name": "stdout",
     "output_type": "stream",
     "text": [
      "Current model recall: 0.8299754425796544\n"
     ]
    }
   ],
   "source": [
    "obj.TestAccuracy()"
   ]
  }
 ],
 "metadata": {
  "kernelspec": {
   "display_name": "Python 3",
   "language": "python",
   "name": "python3"
  },
  "language_info": {
   "codemirror_mode": {
    "name": "ipython",
    "version": 3
   },
   "file_extension": ".py",
   "mimetype": "text/x-python",
   "name": "python",
   "nbconvert_exporter": "python",
   "pygments_lexer": "ipython3",
   "version": "3.7.3"
  }
 },
 "nbformat": 4,
 "nbformat_minor": 2
}
